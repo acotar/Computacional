{
 "cells": [
  {
   "cell_type": "code",
   "execution_count": 85,
   "metadata": {
    "collapsed": false
   },
   "outputs": [],
   "source": [
    "import numpy as np\n",
    "from scipy.integrate import odeint\n",
    "import matplotlib.pyplot as plt\n",
    "import pylab as p\n",
    "\n",
    "# Utilzaremos las siguientes contantes\n",
    "g = 9.8\n",
    "l = 3.0\n",
    "b = 0.0 \n",
    "c = g/l\n",
    "\n",
    "# Condiciones iniciales\n",
    "X_f1 = np.array([-5.0*np.pi,3.0*np.pi])\n",
    "X_f2 = np.array([-4.0*np.pi,-0.0*np.pi]) \n",
    "t = np.linspace(0,4.0*np.pi,1000) \n",
    "\n",
    "# Ecuacion diferencial\n",
    "def p (y, t, u, v):\n",
    "    theta, omega = y\n",
    "    dy_dt = [omega,-u*omega -v*np.sin(theta)]\n",
    "    return dy_dt\n",
    "\n",
    "# EL estilo\n",
    "\n",
    "values  = np.linspace(-1,1,120)   \n",
    "vcolors = plt.cm.PuBu(np.linspace(1.0,1.0, len(values)))\n",
    "plt.figure(2)\n",
    "\n",
    "for v, col in zip(values, vcolors):\n",
    "    y0 = v * X_f1                              \n",
    "    \n",
    "    X = odeint(p, y0, t, args=(b,c))         \n",
    "    plt.plot( X[:,0], X[:,1], lw=3.5*v, color=col, label='X0=(%.f, %.f)' % ( y0[0], y0[1]) )\n",
    "\n",
    "for v, col in zip(values, vcolors):\n",
    "    y1 = v * X_f2                           \n",
    "    X1 = odeint(p, y1, t, args=(b,c))           \n",
    "    plt.plot( X1[:,0], X1[:,1], lw=3.5*v, color=col, label='X0=(%.f, %.f)' % ( y1[0], y1[1]) )\n",
    "\n",
    "# Grafica\n",
    "plt.title('Espacio fase')\n",
    "plt.xlabel(r'$ \\theta $')\n",
    "plt.ylabel('$\\omega$')\n",
    "plt.grid()\n",
    "plt.xlim(-2.0*np.pi,2.0*np.pi)\n",
    "plt.ylim(-7,7)\n",
    "plt.show()"
   ]
  },
  {
   "cell_type": "code",
   "execution_count": null,
   "metadata": {
    "collapsed": true
   },
   "outputs": [],
   "source": []
  }
 ],
 "metadata": {
  "kernelspec": {
   "display_name": "Python 3",
   "language": "python",
   "name": "python3"
  },
  "language_info": {
   "codemirror_mode": {
    "name": "ipython",
    "version": 3
   },
   "file_extension": ".py",
   "mimetype": "text/x-python",
   "name": "python",
   "nbconvert_exporter": "python",
   "pygments_lexer": "ipython3",
   "version": "3.5.1"
  }
 },
 "nbformat": 4,
 "nbformat_minor": 0
}
