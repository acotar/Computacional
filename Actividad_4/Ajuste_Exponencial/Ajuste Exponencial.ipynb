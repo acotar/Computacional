{
 "cells": [
  {
   "cell_type": "code",
   "execution_count": 3,
   "metadata": {
    "collapsed": false
   },
   "outputs": [
    {
     "name": "stderr",
     "output_type": "stream",
     "text": [
      "C:\\Users\\Tony\\Anaconda3\\lib\\site-packages\\ipykernel\\__main__.py:14: RuntimeWarning: overflow encountered in exp\n"
     ]
    }
   ],
   "source": [
    "import numpy as np\n",
    "from scipy import optimize\n",
    "import matplotlib.pyplot as plt\n",
    "\n",
    "#Archivo de datos\n",
    "data1=np.loadtxt('Presión_Altitud.txt')\n",
    "\n",
    "x1=data1[:,0].astype(np.int)\n",
    "y1=data1[:,1].astype(np.float)\n",
    "\n",
    "\n",
    "#Definiendo la función\n",
    "def f(x,u,v,w):\n",
    "    return u*np.exp(-v*x) + w\n",
    "    \n",
    "#Opitimizar la curva    \n",
    "popt, pcov = optimize.curve_fit(f, x1, y1)\n",
    "\n",
    "\n",
    "    \n",
    "xm=np.linspace(-0,50,1000)\n",
    "\n",
    "plt.plot(x1, y1, 'or', label=\"Datos\")\n",
    "plt.plot(xm,f(xm,*popt), label=\"Ajuste\")\n",
    "\n",
    "#Imprimir la gráfica\n",
    "plt.title('Presión-Altitud')\n",
    "plt.legend()\n",
    "plt.xlabel(\"Altitud\")\n",
    "plt.ylabel(\"Presión\")\n",
    "plt.show()"
   ]
  },
  {
   "cell_type": "code",
   "execution_count": null,
   "metadata": {
    "collapsed": true
   },
   "outputs": [],
   "source": []
  }
 ],
 "metadata": {
  "kernelspec": {
   "display_name": "Python 3",
   "language": "python",
   "name": "python3"
  },
  "language_info": {
   "codemirror_mode": {
    "name": "ipython",
    "version": 3
   },
   "file_extension": ".py",
   "mimetype": "text/x-python",
   "name": "python",
   "nbconvert_exporter": "python",
   "pygments_lexer": "ipython3",
   "version": "3.5.1"
  }
 },
 "nbformat": 4,
 "nbformat_minor": 0
}
