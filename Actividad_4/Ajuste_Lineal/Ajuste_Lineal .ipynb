{
 "cells": [
  {
   "cell_type": "code",
   "execution_count": 25,
   "metadata": {
    "collapsed": true
   },
   "outputs": [],
   "source": [
    "import numpy as np\n",
    "from scipy import optimize\n",
    "import matplotlib.pyplot as plt\n",
    "\n",
    "\n",
    "#Archivo de datos\n",
    "data = np.loadtxt('NewYork.txt')\n",
    "\n",
    "x=data[:,0].astype(np.int)\n",
    "y=data[:,1].astype(np.float)\n",
    "\n",
    "#Escala \n",
    "xn=np.linspace(1900,2000,2)\n",
    "\n",
    "#Módulo polinomial\n",
    "m, c = np.polyfit(x, y, 1)\n",
    "#Aproximación de los coeficientes\n",
    "yn = np.polyval([m, c], xn)\n",
    "\n",
    "#Imprimir la gráfica\n",
    "plt.plot(x, y, 'or', label=\"Datos\")\n",
    "plt.plot(xn, yn, label=\"Ajuste\")\n",
    "plt.title('Temperatura en NewYork')\n",
    "plt.legend()\n",
    "plt.show()\n"
   ]
  },
  {
   "cell_type": "code",
   "execution_count": null,
   "metadata": {
    "collapsed": true
   },
   "outputs": [],
   "source": []
  }
 ],
 "metadata": {
  "kernelspec": {
   "display_name": "Python 3",
   "language": "python",
   "name": "python3"
  },
  "language_info": {
   "codemirror_mode": {
    "name": "ipython",
    "version": 3
   },
   "file_extension": ".py",
   "mimetype": "text/x-python",
   "name": "python",
   "nbconvert_exporter": "python",
   "pygments_lexer": "ipython3",
   "version": "3.5.1"
  }
 },
 "nbformat": 4,
 "nbformat_minor": 0
}
