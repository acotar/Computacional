{
 "cells": [
  {
   "cell_type": "code",
   "execution_count": 6,
   "metadata": {
    "collapsed": false
   },
   "outputs": [
    {
     "name": "stderr",
     "output_type": "stream",
     "text": [
      "C:\\Users\\Tony\\Anaconda3\\lib\\site-packages\\ipykernel\\__main__.py:13: RuntimeWarning: invalid value encountered in sqrt\n",
      "C:\\Users\\Tony\\Anaconda3\\lib\\site-packages\\scipy\\integrate\\quadpack.py:357: IntegrationWarning: The occurrence of roundoff error is detected, which prevents \n",
      "  the requested tolerance from being achieved.  The error may be \n",
      "  underestimated.\n",
      "  warnings.warn(msg, IntegrationWarning)\n"
     ]
    }
   ],
   "source": [
    "import numpy as np\n",
    "from scipy import integrate\n",
    "import matplotlib.pyplot as plt\n",
    "import math\n",
    "\n",
    "t=100\n",
    "n=6\n",
    "x=[]\n",
    "TT0_0=[]\n",
    "TT0=[]\n",
    "x_0=np.linspace(0.001,np.pi + 0.001, t)\n",
    "\n",
    "I = lambda x,a: 1/np.sqrt(np.cos(x) - np.cos(a))\n",
    "\n",
    "for i in range(t):\n",
    "#   la integral\n",
    "    theta_0=x_0[i]\n",
    "    T_0 , err= integrate.quad(I, 0, theta_0, args=(theta_0,))\n",
    "    \n",
    "    \n",
    "#   Periodo\n",
    "    TT0_0.append((4/np.sqrt(2)) * T_0)\n",
    "\n",
    "    \n",
    "#  Ciclos   \n",
    "for v in range(n):\n",
    "    \n",
    "#   Error   \n",
    "    err=[]\n",
    "        \n",
    "    for i in range(t):\n",
    "    \n",
    "    \n",
    "        theta_0 = x_0[i]\n",
    "        T0=1\n",
    "\n",
    "#   SUMA     \n",
    "        for u in range(v):\n",
    "            \n",
    "            T0 += math.pow( math.factorial(2*(u+1)) / (math.pow( math.pow(2,(u+1)) * math.factorial(u+1) , 2 ) ) , 2 ) * math.pow( np.sin(theta_0 / 2), 2*(u+1) )   \n",
    "            \n",
    "#   Lista de errores          \n",
    "        err.append(100*(np.absolute(2 * np.pi * T0 - TT0_0[i])/TT0_0[i]))\n",
    "   \n",
    "#   GRÁFICA   \n",
    "    plt.plot(x_0 * 180 / np.pi, err, '-.', linewidth=2, label='$T %i $' % (2*v))\n",
    "    \n",
    "    \n",
    "\n",
    "   \n",
    "#   DESVIACIÓN\n",
    "plt.title('Errores relativos de las series de potencias')\n",
    "plt.xlabel(r'$ \\theta _0 (deg)$')\n",
    "plt.ylabel(\"Error Relativo (%)\")\n",
    "plt.xlim(0,120)\n",
    "plt.ylim(0,1)\n",
    "plt.xticks(np.arange(0,130,10))\n",
    "plt.yticks(np.arange(0,1.1,0.1))\n",
    "plt.legend(loc='center left', bbox_to_anchor=(1, 0.5))\n",
    "plt.grid()\n",
    "plt.show()\n",
    "\n",
    "\n",
    "Err=[]\n",
    "for i in range(t):\n",
    "    theta_0 = x_0[i]\n",
    "    T0=1\n",
    "    for u in range(80):\n",
    "        sen=0\n",
    "# Maclaurin\n",
    "        for k in range(80):\n",
    "            sen += math.pow(-1,k)/math.factorial(2*k+1) * math.pow(theta_0/2, 2*k+1)\n",
    "            \n",
    "        T0 += math.pow( math.factorial(2*(u+1)) / (math.pow( math.pow(2,(u+1)) * math.factorial(u+1) , 2 ) ) , 2 ) * math.pow( sen , 2*(u+1) )   \n",
    "    \n",
    "    Err.append(100*(np.absolute(2 * np.pi * T0 - TT0_0[i])/TT0_0[i]))\n",
    "\n",
    "plt.plot(x_0 * 180 / np.pi, Err, '-.',color='k', linewidth=2, label='$T %i $' % (2*v))\n",
    "plt.title('Error usando serie de Maclaurin')\n",
    "plt.xlabel(r'$ \\theta _0 (deg)$')\n",
    "plt.ylabel(\"Error Relativo (%)\")\n",
    "plt.xlim(0,180)\n",
    "plt.ylim(0,1)\n",
    "plt.xticks(np.arange(0,190,10))\n",
    "plt.yticks(np.arange(0,1.1,0.1))\n",
    "plt.legend(loc='center left', bbox_to_anchor=(1, 0.5))\n",
    "plt.grid()\n",
    "plt.show()\n",
    "\n"
   ]
  },
  {
   "cell_type": "code",
   "execution_count": null,
   "metadata": {
    "collapsed": true
   },
   "outputs": [],
   "source": []
  }
 ],
 "metadata": {
  "kernelspec": {
   "display_name": "Python 3",
   "language": "python",
   "name": "python3"
  },
  "language_info": {
   "codemirror_mode": {
    "name": "ipython",
    "version": 3
   },
   "file_extension": ".py",
   "mimetype": "text/x-python",
   "name": "python",
   "nbconvert_exporter": "python",
   "pygments_lexer": "ipython3",
   "version": "3.5.1"
  }
 },
 "nbformat": 4,
 "nbformat_minor": 0
}
