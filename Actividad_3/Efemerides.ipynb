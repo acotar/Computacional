{
 "cells": [
  {
   "cell_type": "code",
   "execution_count": 83,
   "metadata": {
    "collapsed": false
   },
   "outputs": [],
   "source": [
    "import numpy as np\n",
    "import matplotlib.pyplot as plt\n",
    "from scipy.interpolate import interp1d\n",
    "\n",
    "# Original \"data set\" --- 10 random numbers between 0 and 3.\n",
    "xn = np.random.random(10)\n",
    "x = xn*3\n",
    "# Original \"Data-set\"\n",
    "y = np.sin(2*x)\n",
    "\n",
    "plt.plot(x, y, 'o', label='Data')\n",
    "\n",
    "# Array with points in between those of the data set for interpolation.\n",
    "xnew = np.linspace(min(x), max(x), 10000)\n",
    "# Available options for interp1d\n",
    "options =('linear','quadratic','cubic')\n",
    "for o in options:\n",
    "    f = interp1d(x, y, kind=o)    # interpolation function\n",
    "    plt.plot(xnew, f(xnew), label=o)  # plot of interpolated data\n",
    "    \n",
    "plt.legend(['data', 'linear', 'quadratic', 'cubic'], loc='best')\n",
    "plt.show()"
   ]
  },
  {
   "cell_type": "code",
   "execution_count": 84,
   "metadata": {
    "collapsed": false
   },
   "outputs": [],
   "source": [
    "import numpy as np\n",
    "import matplotlib.pyplot as plt\n",
    "from scipy.interpolate import interp1d\n",
    "\n",
    "# Original \"data set\" --- 20 random numbers between -10 and 10.\n",
    "xn = np.random.random(20)\n",
    "x = (xn*20)-10\n",
    "# Original data set\n",
    "y = np.sin(x)/x\n",
    "\n",
    "plt.plot(x, y, 'o', label='Data')\n",
    "\n",
    "# Array with points in between those of the data set for interpolation.\n",
    "xnew = np.linspace(min(x), max(x), 10000)\n",
    "# Available options for interp1d\n",
    "options =('linear', 'quadratic', 'cubic')\n",
    "for o in options:\n",
    "    f = interp1d(x, y, kind=o)     # interpolation function\n",
    "    plt.plot(xnew, f(xnew), label=o)      # plot of interpolated data\n",
    "    \n",
    "plt.legend(['data', 'linear', 'quadratic', 'cubic'], loc='best')\n",
    "plt.show()"
   ]
  },
  {
   "cell_type": "code",
   "execution_count": 103,
   "metadata": {
    "collapsed": false
   },
   "outputs": [],
   "source": [
    "import numpy as np\n",
    "import matplotlib.pyplot as plt\n",
    "from scipy.interpolate import interp1d\n",
    "\n",
    "# Original \"data set\" --- 16 random numbers between -3 and 3.\n",
    "xn = np.random.random(16)\n",
    "x = (xn*6)-3\n",
    "# Original Data-set\n",
    "y = (x**2)*np.sin(2*x)\n",
    "\n",
    "plt.plot(x, y, 'o', label='Data')\n",
    "\n",
    "# Array with points in between those of the data set for interpolation.\n",
    "xnew = np.linspace(min(x), max(x), 10000)\n",
    "# Available options for interp1d\n",
    "options =('linear', 'quadratic', 'cubic')\n",
    "for o in options:\n",
    "    f = interp1d(x, y, kind=o)    # interpolation function\n",
    "    plt.plot(xnew, f(xnew), label=o)      # plot of interpolated data\n",
    "    \n",
    "plt.legend(['data', 'linear', 'quadratic', 'cubic'], loc='best')\n",
    "plt.show()"
   ]
  },
  {
   "cell_type": "code",
   "execution_count": 102,
   "metadata": {
    "collapsed": false
   },
   "outputs": [],
   "source": [
    "import numpy as np\n",
    "import matplotlib.pyplot as plt\n",
    "from scipy.interpolate import interp1d\n",
    "\n",
    "# Original \"data set\" --- 12 random numbers between -2 and 2.\n",
    "xn = np.random.random(12)\n",
    "x = (xn*4) -2\n",
    "# Original Data-set\n",
    "y = (x**3)*np.sin(3*x)\n",
    "\n",
    "plt.plot(x, y, 'o', label='Data')\n",
    "\n",
    "# Array with points in between those of the data set for interpolation.\n",
    "xnew = np.linspace(min(x), max(x), 10000)\n",
    "# Available options for interp1d\n",
    "options =('linear', 'quadratic', 'cubic')\n",
    "for o in options:\n",
    "    f = interp1d(x, y, kind=o)    # interpolation function\n",
    "    plt.plot(xnew, f(xnew), label=o)      # plot of interpolated data\n",
    "    \n",
    "plt.legend(['data', 'linear', 'quadratic', 'cubic'], loc='best')\n",
    "plt.show()"
   ]
  },
  {
   "cell_type": "code",
   "execution_count": null,
   "metadata": {
    "collapsed": true
   },
   "outputs": [],
   "source": []
  }
 ],
 "metadata": {
  "kernelspec": {
   "display_name": "Python 3",
   "language": "python",
   "name": "python3"
  },
  "language_info": {
   "codemirror_mode": {
    "name": "ipython",
    "version": 3
   },
   "file_extension": ".py",
   "mimetype": "text/x-python",
   "name": "python",
   "nbconvert_exporter": "python",
   "pygments_lexer": "ipython3",
   "version": "3.5.1"
  }
 },
 "nbformat": 4,
 "nbformat_minor": 0
}
