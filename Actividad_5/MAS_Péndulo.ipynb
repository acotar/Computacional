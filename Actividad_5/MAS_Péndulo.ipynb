{
 "cells": [
  {
   "cell_type": "code",
   "execution_count": 7,
   "metadata": {
    "collapsed": false
   },
   "outputs": [],
   "source": [
    "import numpy as np\n",
    ">>> def pend(y, t, b, c):\n",
    "...     theta, omega = y\n",
    "...     dydt = [omega, -b*omega - c*np.sin(theta)]\n",
    "...     return dydt\n",
    "...\n",
    "#Tomamos los valores de las constantes como b=0.25 y c=5.0\n",
    ">>> b = 0.25\n",
    ">>> c = 5.0\n",
    "\n",
    "#Condiciones iniciales\n",
    ">>> y0 = [np.pi - 0.1, 0.0]\n",
    "\n",
    "#Nuestra gama de tiempos es\n",
    ">>> t = np.linspace(0, 10, 101)\n",
    "\n",
    "#Odeint para generar la solución\n",
    ">>> from scipy.integrate import odeint\n",
    ">>> sol = odeint(pend, y0, t, args=(b, c))\n",
    "\n",
    "#La solución es un vector de la forma (101, 2)\n",
    ">>> import matplotlib.pyplot as plt\n",
    ">>> plt.plot(t, sol[:, 0], 'b', label='theta(t)')\n",
    ">>> plt.plot(t, sol[:, 1], 'g', label='omega(t)')\n",
    ">>> plt.legend(loc='best')\n",
    ">>> plt.xlabel('t')\n",
    ">>> plt.grid()\n",
    ">>> plt.show()\n",
    "\n"
   ]
  },
  {
   "cell_type": "code",
   "execution_count": null,
   "metadata": {
    "collapsed": true
   },
   "outputs": [],
   "source": []
  }
 ],
 "metadata": {
  "kernelspec": {
   "display_name": "Python 3",
   "language": "python",
   "name": "python3"
  },
  "language_info": {
   "codemirror_mode": {
    "name": "ipython",
    "version": 3
   },
   "file_extension": ".py",
   "mimetype": "text/x-python",
   "name": "python",
   "nbconvert_exporter": "python",
   "pygments_lexer": "ipython3",
   "version": "3.5.1"
  }
 },
 "nbformat": 4,
 "nbformat_minor": 0
}
