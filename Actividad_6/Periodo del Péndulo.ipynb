{
 "cells": [
  {
   "cell_type": "code",
   "execution_count": 21,
   "metadata": {
    "collapsed": false
   },
   "outputs": [
    {
     "name": "stderr",
     "output_type": "stream",
     "text": [
      "C:\\Users\\Tony\\Anaconda3\\lib\\site-packages\\ipykernel\\__main__.py:18: RuntimeWarning: divide by zero encountered in double_scalars\n",
      "C:\\Users\\Tony\\Anaconda3\\lib\\site-packages\\scipy\\integrate\\quadpack.py:357: IntegrationWarning: The occurrence of roundoff error is detected, which prevents \n",
      "  the requested tolerance from being achieved.  The error may be \n",
      "  underestimated.\n",
      "  warnings.warn(msg, IntegrationWarning)\n",
      "C:\\Users\\Tony\\Anaconda3\\lib\\site-packages\\ipykernel\\__main__.py:18: RuntimeWarning: invalid value encountered in sqrt\n"
     ]
    }
   ],
   "source": [
    "# Paquetes\n",
    "import numpy as np\n",
    "from scipy import integrate\n",
    "import matplotlib.pyplot as plt\n",
    "\n",
    "\n",
    "# Numero de angulos a integrar\n",
    "n=1000\n",
    "\n",
    "# Arreglos, tomando error de 0.0001\n",
    "x=[]\n",
    "TT0=[]\n",
    "x_0=np.linspace(0.0001,np.pi + 0.0001, n)\n",
    "\n",
    "\n",
    "\n",
    "# La función a integrar\n",
    "I = lambda x,a: 1/np.sqrt(np.cos(x) - np.cos(a))\n",
    "\n",
    "\n",
    "for i in range(n):\n",
    "# Integral\n",
    "    theta_0=x_0[i]\n",
    "    T , err= integrate.quad(I, 0, theta_0, args=(theta_0,))\n",
    "    \n",
    "    \n",
    "# Error\n",
    "    TT0.append(np.sqrt(2)/np.pi * T)\n",
    "    \n",
    "    \n",
    "    \n",
    "# Gráficas\n",
    "plt.figure(1)\n",
    "plt.plot(x_0 * 180 / np.pi, TT0 , \"r\" )\n",
    "plt.title('Desviacion')\n",
    "plt.xlabel(r'$ \\theta _0 (grados)$')\n",
    "plt.ylabel(\"T/To\")\n",
    "plt.xlim(0,90)\n",
    "plt.ylim(1,1.2)\n",
    "plt.grid()\n",
    "\n",
    "plt.show()\n",
    "\n",
    "plt.figure(1)\n",
    "plt.plot(x_0 * 180 / np.pi, TT0 , \"b\" )\n",
    "plt.title('Divergencia en ' r'$\\theta_0 = \\pi$')\n",
    "plt.xlabel(r'$ \\theta _0 (grados)$')\n",
    "plt.ylabel(\"T/To\")\n",
    "plt.xlim(0,180)\n",
    "plt.ylim(1,5)\n",
    "plt.grid()\n",
    "\n",
    "\n",
    "plt.show()\n"
   ]
  },
  {
   "cell_type": "code",
   "execution_count": null,
   "metadata": {
    "collapsed": true
   },
   "outputs": [],
   "source": []
  }
 ],
 "metadata": {
  "kernelspec": {
   "display_name": "Python 3",
   "language": "python",
   "name": "python3"
  },
  "language_info": {
   "codemirror_mode": {
    "name": "ipython",
    "version": 3
   },
   "file_extension": ".py",
   "mimetype": "text/x-python",
   "name": "python",
   "nbconvert_exporter": "python",
   "pygments_lexer": "ipython3",
   "version": "3.5.1"
  }
 },
 "nbformat": 4,
 "nbformat_minor": 0
}
